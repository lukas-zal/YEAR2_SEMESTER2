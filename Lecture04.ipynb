{
 "cells": [
  {
   "cell_type": "code",
   "execution_count": 118,
   "metadata": {},
   "outputs": [
    {
     "name": "stdout",
     "output_type": "stream",
     "text": [
      "mystery(0) 0, Time taken: 0.000000 seconds\n",
      "mystery(1) 0, Time taken: 0.000000 seconds\n",
      "mystery(2) 1, Time taken: 0.000000 seconds\n",
      "mystery(3) 9, Time taken: 0.000000 seconds\n",
      "mystery(4) 36, Time taken: 0.000000 seconds\n",
      "mystery(5) 100, Time taken: 0.000000 seconds\n",
      "mystery(20) 36100, Time taken: 0.000000 seconds\n",
      "mystery(0) 0 |  Execution time: 0.0 seconds\n",
      "mystery(1) 0 |  Execution time: 0.0 seconds\n",
      "mystery(2) 1 |  Execution time: 0.0 seconds\n",
      "mystery(3) 9 |  Execution time: 0.0 seconds\n",
      "mystery(4) 36 |  Execution time: 0.0 seconds\n",
      "mystery(5) 100 |  Execution time: 0.0 seconds\n",
      "mystery(20) 36100 |  Execution time: 0.0 seconds\n"
     ]
    }
   ],
   "source": [
    "import time\n",
    "\n",
    "def mystery(n):\n",
    "    total = 0\n",
    "    for i in range(n):\n",
    "        for j in range(n):\n",
    "            total += i * j\n",
    "    return total\n",
    "\n",
    "n_values = [0,1,2,3,4,5,20]\n",
    "\n",
    "for n in n_values:\n",
    "    start_time = time.time()\n",
    "    results = mystery(n)\n",
    "    end_time = time.time()\n",
    "    print(f\"mystery({n}) {(results)}, Time taken: {end_time - start_time:6f} seconds\")\n",
    "\n",
    "\n",
    "\n",
    "def solution(x):\n",
    "    sum_x = x(x-1) // 2\n",
    "    return sum_x * sum_x\n",
    "\n",
    "x_values = [0,1,2,3,4,5,20]\n",
    "\n",
    "for x in x_values:\n",
    "    start1 = time.time()\n",
    "    result = mystery(x)\n",
    "    end1 = time.time()\n",
    "    endtime = start1-end1\n",
    "    print(f'mystery({x}) {(result)} |  Execution time: {endtime} seconds')"
   ]
  },
  {
   "cell_type": "code",
   "execution_count": 9,
   "metadata": {},
   "outputs": [
    {
     "name": "stdout",
     "output_type": "stream",
     "text": [
      "Inorder traversal of the BST:\n",
      "8 10 12 15 17 20 25 \n"
     ]
    },
    {
     "data": {
      "image/png": "[encoded data removed]",
      "text/plain": [
       "<Figure size 800x600 with 1 Axes>"
      ]
     },
     "metadata": {},
     "output_type": "display_data"
    }
   ],
   "source": [
    "import matplotlib.pyplot as plt\n",
    "import networkx as nx\n",
    "\n",
    "class Node:\n",
    "    def __init__(self, key):\n",
    "        self.key = key\n",
    "        self.left = None\n",
    "        self.right = None\n",
    "\n",
    "class BST:\n",
    "    def insert(self, key):\n",
    "        self.root = self._insert(self.root, key)\n",
    "\n",
    "    def __init__(self):\n",
    "        self.root = None\n",
    "\n",
    "    def inorder(self):\n",
    "        self._inorder(self.root)\n",
    "        print()\n",
    "\n",
    "    def _inorder(self, root):\n",
    "        if root:\n",
    "            self._inorder(root.left)\n",
    "            print(root.key, end=\" \")\n",
    "            self._inorder(root.right)  \n",
    "\n",
    "    def _insert(self, root, key):\n",
    "        if root is None:\n",
    "            return Node(key)\n",
    "        if key < root.key:\n",
    "            root.left = self._insert(root.left, key)\n",
    "        else:\n",
    "            root.right = self._insert(root.right, key)\n",
    "        return root\n",
    "              \n",
    "    def visualize_tree(self):\n",
    "        graph, pos = self._visualize_tree(self.root)\n",
    "        plt.figure(figsize=(8, 6))\n",
    "        nx.draw(graph, pos, with_labels=True, node_size=2000, node_color='lightblue', font_size=10, font_weight='bold', edge_color='gray')\n",
    "        plt.show()\n",
    "\n",
    "\n",
    "    def _visualize_tree(self, root, graph=None, pos=None, level=0, x=0, y=0, layer_width=10):\n",
    "        if graph is None:\n",
    "            graph = nx.DiGraph()\n",
    "            pos = {}\n",
    "        if root:\n",
    "            pos[root.key] = (x, y)\n",
    "            if root.left:\n",
    "                graph.add_edge(root.key, root.left.key)\n",
    "                self._visualize_tree(root.left, graph, pos, level + 1, x - layer_width / 2 ** (level + 1), y - 1, layer_width)\n",
    "            if root.right:\n",
    "                graph.add_edge(root.key, root.right.key)\n",
    "                self._visualize_tree(root.right, graph, pos, level + 1, x + layer_width / 2 ** (level + 1), y - 1, layer_width)\n",
    "        return graph, pos\n",
    "\n",
    "bst = BST()\n",
    "elements = [15, 10, 20, 8, 12, 17, 25]\n",
    "for el in elements:\n",
    "    bst.insert(el)\n",
    "\n",
    "print(\"Inorder traversal of the BST:\")\n",
    "bst.inorder()\n",
    "bst.visualize_tree()\n",
    "    "
   ]
  }
 ],
 "metadata": {
  "kernelspec": {
   "display_name": "Python 3",
   "language": "python",
   "name": "python3"
  },
  "language_info": {
   "codemirror_mode": {
    "name": "ipython",
    "version": 3
   },
   "file_extension": ".py",
   "mimetype": "text/x-python",
   "name": "python",
   "nbconvert_exporter": "python",
   "pygments_lexer": "ipython3",
   "version": "3.11.9"
  }
 },
 "nbformat": 4,
 "nbformat_minor": 2
}
